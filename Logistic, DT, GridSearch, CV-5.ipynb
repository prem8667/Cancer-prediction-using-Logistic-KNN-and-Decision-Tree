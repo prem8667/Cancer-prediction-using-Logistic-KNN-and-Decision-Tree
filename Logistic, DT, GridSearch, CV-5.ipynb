{
 "cells": [
  {
   "cell_type": "markdown",
   "metadata": {},
   "source": [
    "### Logistic Regression:"
   ]
  },
  {
   "cell_type": "code",
   "execution_count": 1,
   "metadata": {},
   "outputs": [],
   "source": [
    "import pandas as pd\n",
    "from sklearn import metrics\n",
    "from sklearn.linear_model import LogisticRegression\n",
    "#from sklearn import neighbors\n",
    "#from sklearn.tree import DecisionTreeClassifier\n",
    "#from sklearn.svm import SVC\n",
    "import warnings\n",
    "warnings.filterwarnings('ignore')"
   ]
  },
  {
   "cell_type": "code",
   "execution_count": 2,
   "metadata": {},
   "outputs": [
    {
     "name": "stdout",
     "output_type": "stream",
     "text": [
      "[WinError 2] The system cannot find the file specified: 'Downloads'\n",
      "C:\\Users\\PREMR\\OneDrive\\Desktop\\DATA SCIENCE\n"
     ]
    }
   ],
   "source": [
    "cd Downloads"
   ]
  },
  {
   "cell_type": "code",
   "execution_count": 3,
   "metadata": {},
   "outputs": [],
   "source": [
    "cancer = pd.read_csv('knn.csv')"
   ]
  },
  {
   "cell_type": "code",
   "execution_count": 4,
   "metadata": {},
   "outputs": [
    {
     "data": {
      "text/html": [
       "<div>\n",
       "<style scoped>\n",
       "    .dataframe tbody tr th:only-of-type {\n",
       "        vertical-align: middle;\n",
       "    }\n",
       "\n",
       "    .dataframe tbody tr th {\n",
       "        vertical-align: top;\n",
       "    }\n",
       "\n",
       "    .dataframe thead th {\n",
       "        text-align: right;\n",
       "    }\n",
       "</style>\n",
       "<table border=\"1\" class=\"dataframe\">\n",
       "  <thead>\n",
       "    <tr style=\"text-align: right;\">\n",
       "      <th></th>\n",
       "      <th>id</th>\n",
       "      <th>diagnosis</th>\n",
       "      <th>radius_mean</th>\n",
       "      <th>texture_mean</th>\n",
       "      <th>perimeter_mean</th>\n",
       "      <th>area_mean</th>\n",
       "      <th>smoothness_mean</th>\n",
       "      <th>compactness_mean</th>\n",
       "      <th>concavity_mean</th>\n",
       "      <th>points_mean</th>\n",
       "      <th>...</th>\n",
       "      <th>radius_worst</th>\n",
       "      <th>texture_worst</th>\n",
       "      <th>perimeter_worst</th>\n",
       "      <th>area_worst</th>\n",
       "      <th>smoothness_worst</th>\n",
       "      <th>compactness_worst</th>\n",
       "      <th>concavity_worst</th>\n",
       "      <th>points_worst</th>\n",
       "      <th>symmetry_worst</th>\n",
       "      <th>dimension_worst</th>\n",
       "    </tr>\n",
       "  </thead>\n",
       "  <tbody>\n",
       "    <tr>\n",
       "      <th>0</th>\n",
       "      <td>87139402</td>\n",
       "      <td>B</td>\n",
       "      <td>12.32</td>\n",
       "      <td>12.39</td>\n",
       "      <td>78.85</td>\n",
       "      <td>464.1</td>\n",
       "      <td>0.10280</td>\n",
       "      <td>0.06981</td>\n",
       "      <td>0.03987</td>\n",
       "      <td>0.03700</td>\n",
       "      <td>...</td>\n",
       "      <td>13.50</td>\n",
       "      <td>15.64</td>\n",
       "      <td>86.97</td>\n",
       "      <td>549.1</td>\n",
       "      <td>0.1385</td>\n",
       "      <td>0.1266</td>\n",
       "      <td>0.12420</td>\n",
       "      <td>0.09391</td>\n",
       "      <td>0.2827</td>\n",
       "      <td>0.06771</td>\n",
       "    </tr>\n",
       "    <tr>\n",
       "      <th>1</th>\n",
       "      <td>8910251</td>\n",
       "      <td>B</td>\n",
       "      <td>10.60</td>\n",
       "      <td>18.95</td>\n",
       "      <td>69.28</td>\n",
       "      <td>346.4</td>\n",
       "      <td>0.09688</td>\n",
       "      <td>0.11470</td>\n",
       "      <td>0.06387</td>\n",
       "      <td>0.02642</td>\n",
       "      <td>...</td>\n",
       "      <td>11.88</td>\n",
       "      <td>22.94</td>\n",
       "      <td>78.28</td>\n",
       "      <td>424.8</td>\n",
       "      <td>0.1213</td>\n",
       "      <td>0.2515</td>\n",
       "      <td>0.19160</td>\n",
       "      <td>0.07926</td>\n",
       "      <td>0.2940</td>\n",
       "      <td>0.07587</td>\n",
       "    </tr>\n",
       "    <tr>\n",
       "      <th>2</th>\n",
       "      <td>905520</td>\n",
       "      <td>B</td>\n",
       "      <td>11.04</td>\n",
       "      <td>16.83</td>\n",
       "      <td>70.92</td>\n",
       "      <td>373.2</td>\n",
       "      <td>0.10770</td>\n",
       "      <td>0.07804</td>\n",
       "      <td>0.03046</td>\n",
       "      <td>0.02480</td>\n",
       "      <td>...</td>\n",
       "      <td>12.41</td>\n",
       "      <td>26.44</td>\n",
       "      <td>79.93</td>\n",
       "      <td>471.4</td>\n",
       "      <td>0.1369</td>\n",
       "      <td>0.1482</td>\n",
       "      <td>0.10670</td>\n",
       "      <td>0.07431</td>\n",
       "      <td>0.2998</td>\n",
       "      <td>0.07881</td>\n",
       "    </tr>\n",
       "    <tr>\n",
       "      <th>3</th>\n",
       "      <td>868871</td>\n",
       "      <td>B</td>\n",
       "      <td>11.28</td>\n",
       "      <td>13.39</td>\n",
       "      <td>73.00</td>\n",
       "      <td>384.8</td>\n",
       "      <td>0.11640</td>\n",
       "      <td>0.11360</td>\n",
       "      <td>0.04635</td>\n",
       "      <td>0.04796</td>\n",
       "      <td>...</td>\n",
       "      <td>11.92</td>\n",
       "      <td>15.77</td>\n",
       "      <td>76.53</td>\n",
       "      <td>434.0</td>\n",
       "      <td>0.1367</td>\n",
       "      <td>0.1822</td>\n",
       "      <td>0.08669</td>\n",
       "      <td>0.08611</td>\n",
       "      <td>0.2102</td>\n",
       "      <td>0.06784</td>\n",
       "    </tr>\n",
       "    <tr>\n",
       "      <th>4</th>\n",
       "      <td>9012568</td>\n",
       "      <td>B</td>\n",
       "      <td>15.19</td>\n",
       "      <td>13.21</td>\n",
       "      <td>97.65</td>\n",
       "      <td>711.8</td>\n",
       "      <td>0.07963</td>\n",
       "      <td>0.06934</td>\n",
       "      <td>0.03393</td>\n",
       "      <td>0.02657</td>\n",
       "      <td>...</td>\n",
       "      <td>16.20</td>\n",
       "      <td>15.73</td>\n",
       "      <td>104.50</td>\n",
       "      <td>819.1</td>\n",
       "      <td>0.1126</td>\n",
       "      <td>0.1737</td>\n",
       "      <td>0.13620</td>\n",
       "      <td>0.08178</td>\n",
       "      <td>0.2487</td>\n",
       "      <td>0.06766</td>\n",
       "    </tr>\n",
       "    <tr>\n",
       "      <th>5</th>\n",
       "      <td>906539</td>\n",
       "      <td>B</td>\n",
       "      <td>11.57</td>\n",
       "      <td>19.04</td>\n",
       "      <td>74.20</td>\n",
       "      <td>409.7</td>\n",
       "      <td>0.08546</td>\n",
       "      <td>0.07722</td>\n",
       "      <td>0.05485</td>\n",
       "      <td>0.01428</td>\n",
       "      <td>...</td>\n",
       "      <td>13.07</td>\n",
       "      <td>26.98</td>\n",
       "      <td>86.43</td>\n",
       "      <td>520.5</td>\n",
       "      <td>0.1249</td>\n",
       "      <td>0.1937</td>\n",
       "      <td>0.25600</td>\n",
       "      <td>0.06664</td>\n",
       "      <td>0.3035</td>\n",
       "      <td>0.08284</td>\n",
       "    </tr>\n",
       "    <tr>\n",
       "      <th>6</th>\n",
       "      <td>925291</td>\n",
       "      <td>B</td>\n",
       "      <td>11.51</td>\n",
       "      <td>23.93</td>\n",
       "      <td>74.52</td>\n",
       "      <td>403.5</td>\n",
       "      <td>0.09261</td>\n",
       "      <td>0.10210</td>\n",
       "      <td>0.11120</td>\n",
       "      <td>0.04105</td>\n",
       "      <td>...</td>\n",
       "      <td>12.48</td>\n",
       "      <td>37.16</td>\n",
       "      <td>82.28</td>\n",
       "      <td>474.2</td>\n",
       "      <td>0.1298</td>\n",
       "      <td>0.2517</td>\n",
       "      <td>0.36300</td>\n",
       "      <td>0.09653</td>\n",
       "      <td>0.2112</td>\n",
       "      <td>0.08732</td>\n",
       "    </tr>\n",
       "    <tr>\n",
       "      <th>7</th>\n",
       "      <td>87880</td>\n",
       "      <td>M</td>\n",
       "      <td>13.81</td>\n",
       "      <td>23.75</td>\n",
       "      <td>91.56</td>\n",
       "      <td>597.8</td>\n",
       "      <td>0.13230</td>\n",
       "      <td>0.17680</td>\n",
       "      <td>0.15580</td>\n",
       "      <td>0.09176</td>\n",
       "      <td>...</td>\n",
       "      <td>19.20</td>\n",
       "      <td>41.85</td>\n",
       "      <td>128.50</td>\n",
       "      <td>1153.0</td>\n",
       "      <td>0.2226</td>\n",
       "      <td>0.5209</td>\n",
       "      <td>0.46460</td>\n",
       "      <td>0.20130</td>\n",
       "      <td>0.4432</td>\n",
       "      <td>0.10860</td>\n",
       "    </tr>\n",
       "    <tr>\n",
       "      <th>8</th>\n",
       "      <td>862989</td>\n",
       "      <td>B</td>\n",
       "      <td>10.49</td>\n",
       "      <td>19.29</td>\n",
       "      <td>67.41</td>\n",
       "      <td>336.1</td>\n",
       "      <td>0.09989</td>\n",
       "      <td>0.08578</td>\n",
       "      <td>0.02995</td>\n",
       "      <td>0.01201</td>\n",
       "      <td>...</td>\n",
       "      <td>11.54</td>\n",
       "      <td>23.31</td>\n",
       "      <td>74.22</td>\n",
       "      <td>402.8</td>\n",
       "      <td>0.1219</td>\n",
       "      <td>0.1486</td>\n",
       "      <td>0.07987</td>\n",
       "      <td>0.03203</td>\n",
       "      <td>0.2826</td>\n",
       "      <td>0.07552</td>\n",
       "    </tr>\n",
       "    <tr>\n",
       "      <th>9</th>\n",
       "      <td>89827</td>\n",
       "      <td>B</td>\n",
       "      <td>11.06</td>\n",
       "      <td>14.96</td>\n",
       "      <td>71.49</td>\n",
       "      <td>373.9</td>\n",
       "      <td>0.10330</td>\n",
       "      <td>0.09097</td>\n",
       "      <td>0.05397</td>\n",
       "      <td>0.03341</td>\n",
       "      <td>...</td>\n",
       "      <td>11.92</td>\n",
       "      <td>19.90</td>\n",
       "      <td>79.76</td>\n",
       "      <td>440.0</td>\n",
       "      <td>0.1418</td>\n",
       "      <td>0.2210</td>\n",
       "      <td>0.22990</td>\n",
       "      <td>0.10750</td>\n",
       "      <td>0.3301</td>\n",
       "      <td>0.09080</td>\n",
       "    </tr>\n",
       "  </tbody>\n",
       "</table>\n",
       "<p>10 rows × 32 columns</p>\n",
       "</div>"
      ],
      "text/plain": [
       "         id diagnosis  radius_mean  texture_mean  perimeter_mean  area_mean  \\\n",
       "0  87139402         B        12.32         12.39           78.85      464.1   \n",
       "1   8910251         B        10.60         18.95           69.28      346.4   \n",
       "2    905520         B        11.04         16.83           70.92      373.2   \n",
       "3    868871         B        11.28         13.39           73.00      384.8   \n",
       "4   9012568         B        15.19         13.21           97.65      711.8   \n",
       "5    906539         B        11.57         19.04           74.20      409.7   \n",
       "6    925291         B        11.51         23.93           74.52      403.5   \n",
       "7     87880         M        13.81         23.75           91.56      597.8   \n",
       "8    862989         B        10.49         19.29           67.41      336.1   \n",
       "9     89827         B        11.06         14.96           71.49      373.9   \n",
       "\n",
       "   smoothness_mean  compactness_mean  concavity_mean  points_mean  ...  \\\n",
       "0          0.10280           0.06981         0.03987      0.03700  ...   \n",
       "1          0.09688           0.11470         0.06387      0.02642  ...   \n",
       "2          0.10770           0.07804         0.03046      0.02480  ...   \n",
       "3          0.11640           0.11360         0.04635      0.04796  ...   \n",
       "4          0.07963           0.06934         0.03393      0.02657  ...   \n",
       "5          0.08546           0.07722         0.05485      0.01428  ...   \n",
       "6          0.09261           0.10210         0.11120      0.04105  ...   \n",
       "7          0.13230           0.17680         0.15580      0.09176  ...   \n",
       "8          0.09989           0.08578         0.02995      0.01201  ...   \n",
       "9          0.10330           0.09097         0.05397      0.03341  ...   \n",
       "\n",
       "   radius_worst  texture_worst  perimeter_worst  area_worst  smoothness_worst  \\\n",
       "0         13.50          15.64            86.97       549.1            0.1385   \n",
       "1         11.88          22.94            78.28       424.8            0.1213   \n",
       "2         12.41          26.44            79.93       471.4            0.1369   \n",
       "3         11.92          15.77            76.53       434.0            0.1367   \n",
       "4         16.20          15.73           104.50       819.1            0.1126   \n",
       "5         13.07          26.98            86.43       520.5            0.1249   \n",
       "6         12.48          37.16            82.28       474.2            0.1298   \n",
       "7         19.20          41.85           128.50      1153.0            0.2226   \n",
       "8         11.54          23.31            74.22       402.8            0.1219   \n",
       "9         11.92          19.90            79.76       440.0            0.1418   \n",
       "\n",
       "   compactness_worst  concavity_worst  points_worst  symmetry_worst  \\\n",
       "0             0.1266          0.12420       0.09391          0.2827   \n",
       "1             0.2515          0.19160       0.07926          0.2940   \n",
       "2             0.1482          0.10670       0.07431          0.2998   \n",
       "3             0.1822          0.08669       0.08611          0.2102   \n",
       "4             0.1737          0.13620       0.08178          0.2487   \n",
       "5             0.1937          0.25600       0.06664          0.3035   \n",
       "6             0.2517          0.36300       0.09653          0.2112   \n",
       "7             0.5209          0.46460       0.20130          0.4432   \n",
       "8             0.1486          0.07987       0.03203          0.2826   \n",
       "9             0.2210          0.22990       0.10750          0.3301   \n",
       "\n",
       "   dimension_worst  \n",
       "0          0.06771  \n",
       "1          0.07587  \n",
       "2          0.07881  \n",
       "3          0.06784  \n",
       "4          0.06766  \n",
       "5          0.08284  \n",
       "6          0.08732  \n",
       "7          0.10860  \n",
       "8          0.07552  \n",
       "9          0.09080  \n",
       "\n",
       "[10 rows x 32 columns]"
      ]
     },
     "execution_count": 4,
     "metadata": {},
     "output_type": "execute_result"
    }
   ],
   "source": [
    "cancer.head(10)"
   ]
  },
  {
   "cell_type": "code",
   "execution_count": 5,
   "metadata": {},
   "outputs": [],
   "source": [
    "del cancer['id']"
   ]
  },
  {
   "cell_type": "code",
   "execution_count": 6,
   "metadata": {},
   "outputs": [
    {
     "name": "stdout",
     "output_type": "stream",
     "text": [
      "<class 'pandas.core.frame.DataFrame'>\n",
      "RangeIndex: 569 entries, 0 to 568\n",
      "Data columns (total 31 columns):\n",
      " #   Column             Non-Null Count  Dtype  \n",
      "---  ------             --------------  -----  \n",
      " 0   diagnosis          569 non-null    object \n",
      " 1   radius_mean        569 non-null    float64\n",
      " 2   texture_mean       569 non-null    float64\n",
      " 3   perimeter_mean     569 non-null    float64\n",
      " 4   area_mean          569 non-null    float64\n",
      " 5   smoothness_mean    569 non-null    float64\n",
      " 6   compactness_mean   569 non-null    float64\n",
      " 7   concavity_mean     569 non-null    float64\n",
      " 8   points_mean        569 non-null    float64\n",
      " 9   symmetry_mean      569 non-null    float64\n",
      " 10  dimension_mean     569 non-null    float64\n",
      " 11  radius_se          569 non-null    float64\n",
      " 12  texture_se         569 non-null    float64\n",
      " 13  perimeter_se       569 non-null    float64\n",
      " 14  area_se            569 non-null    float64\n",
      " 15  smoothness_se      569 non-null    float64\n",
      " 16  compactness_se     569 non-null    float64\n",
      " 17  concavity_se       569 non-null    float64\n",
      " 18  points_se          569 non-null    float64\n",
      " 19  symmetry_se        569 non-null    float64\n",
      " 20  dimension_se       569 non-null    float64\n",
      " 21  radius_worst       569 non-null    float64\n",
      " 22  texture_worst      569 non-null    float64\n",
      " 23  perimeter_worst    569 non-null    float64\n",
      " 24  area_worst         569 non-null    float64\n",
      " 25  smoothness_worst   569 non-null    float64\n",
      " 26  compactness_worst  569 non-null    float64\n",
      " 27  concavity_worst    569 non-null    float64\n",
      " 28  points_worst       569 non-null    float64\n",
      " 29  symmetry_worst     569 non-null    float64\n",
      " 30  dimension_worst    569 non-null    float64\n",
      "dtypes: float64(30), object(1)\n",
      "memory usage: 137.9+ KB\n"
     ]
    }
   ],
   "source": [
    "cancer.info()"
   ]
  },
  {
   "cell_type": "code",
   "execution_count": 7,
   "metadata": {},
   "outputs": [],
   "source": [
    "import seaborn as sns"
   ]
  },
  {
   "cell_type": "code",
   "execution_count": 8,
   "metadata": {},
   "outputs": [
    {
     "name": "stderr",
     "output_type": "stream",
     "text": [
      "C:\\Users\\shubh\\anaconda3\\lib\\site-packages\\seaborn\\_decorators.py:36: FutureWarning: Pass the following variable as a keyword arg: x. From version 0.12, the only valid positional argument will be `data`, and passing other arguments without an explicit keyword will result in an error or misinterpretation.\n",
      "  warnings.warn(\n"
     ]
    },
    {
     "data": {
      "text/plain": [
       "<matplotlib.axes._subplots.AxesSubplot at 0x1e93f504a30>"
      ]
     },
     "execution_count": 8,
     "metadata": {},
     "output_type": "execute_result"
    },
    {
     "data": {
      "image/png": "[encoded data removed]",
      "text/plain": [
       "<Figure size 432x288 with 1 Axes>"
      ]
     },
     "metadata": {
      "needs_background": "light"
     },
     "output_type": "display_data"
    }
   ],
   "source": [
    "#check the imbalanced dataset\n",
    "sns.countplot(cancer['diagnosis'])"
   ]
  },
  {
   "cell_type": "code",
   "execution_count": 9,
   "metadata": {},
   "outputs": [
    {
     "data": {
      "text/plain": [
       "B    357\n",
       "M    212\n",
       "Name: diagnosis, dtype: int64"
      ]
     },
     "execution_count": 9,
     "metadata": {},
     "output_type": "execute_result"
    }
   ],
   "source": [
    "cancer['diagnosis'].value_counts()"
   ]
  },
  {
   "cell_type": "code",
   "execution_count": 11,
   "metadata": {},
   "outputs": [
    {
     "name": "stdout",
     "output_type": "stream",
     "text": [
      "   radius_mean  texture_mean  perimeter_mean  area_mean  smoothness_mean  \\\n",
      "0        12.32         12.39           78.85      464.1          0.10280   \n",
      "1        10.60         18.95           69.28      346.4          0.09688   \n",
      "2        11.04         16.83           70.92      373.2          0.10770   \n",
      "3        11.28         13.39           73.00      384.8          0.11640   \n",
      "4        15.19         13.21           97.65      711.8          0.07963   \n",
      "\n",
      "   compactness_mean  concavity_mean  points_mean  symmetry_mean  \\\n",
      "0           0.06981         0.03987      0.03700         0.1959   \n",
      "1           0.11470         0.06387      0.02642         0.1922   \n",
      "2           0.07804         0.03046      0.02480         0.1714   \n",
      "3           0.11360         0.04635      0.04796         0.1771   \n",
      "4           0.06934         0.03393      0.02657         0.1721   \n",
      "\n",
      "   dimension_mean  ...  radius_worst  texture_worst  perimeter_worst  \\\n",
      "0         0.05955  ...         13.50          15.64            86.97   \n",
      "1         0.06491  ...         11.88          22.94            78.28   \n",
      "2         0.06340  ...         12.41          26.44            79.93   \n",
      "3         0.06072  ...         11.92          15.77            76.53   \n",
      "4         0.05544  ...         16.20          15.73           104.50   \n",
      "\n",
      "   area_worst  smoothness_worst  compactness_worst  concavity_worst  \\\n",
      "0       549.1            0.1385             0.1266          0.12420   \n",
      "1       424.8            0.1213             0.2515          0.19160   \n",
      "2       471.4            0.1369             0.1482          0.10670   \n",
      "3       434.0            0.1367             0.1822          0.08669   \n",
      "4       819.1            0.1126             0.1737          0.13620   \n",
      "\n",
      "   points_worst  symmetry_worst  dimension_worst  \n",
      "0       0.09391          0.2827          0.06771  \n",
      "1       0.07926          0.2940          0.07587  \n",
      "2       0.07431          0.2998          0.07881  \n",
      "3       0.08611          0.2102          0.06784  \n",
      "4       0.08178          0.2487          0.06766  \n",
      "\n",
      "[5 rows x 30 columns]\n"
     ]
    }
   ],
   "source": [
    "#Sampling\n",
    "X = cancer.iloc[:,1:]\n",
    "print(X.head())"
   ]
  },
  {
   "cell_type": "code",
   "execution_count": 12,
   "metadata": {},
   "outputs": [
    {
     "name": "stdout",
     "output_type": "stream",
     "text": [
      "  diagnosis\n",
      "0         B\n",
      "1         B\n",
      "2         B\n",
      "3         B\n",
      "4         B\n"
     ]
    }
   ],
   "source": [
    "y = cancer.iloc[:,:1]\n",
    "print(y.head())"
   ]
  },
  {
   "cell_type": "code",
   "execution_count": 15,
   "metadata": {},
   "outputs": [],
   "source": [
    "from sklearn.model_selection import train_test_split\n",
    "X_train, X_test, y_train, y_test = train_test_split(X,y , test_size = 0.2, random_state = 42)"
   ]
  },
  {
   "cell_type": "code",
   "execution_count": 23,
   "metadata": {},
   "outputs": [
    {
     "name": "stdout",
     "output_type": "stream",
     "text": [
      "(455, 30)\n",
      "(455, 1)\n",
      "(114, 30)\n",
      "(114, 1)\n"
     ]
    }
   ],
   "source": [
    "print(X_train.shape)\n",
    "print(y_train.shape)\n",
    "print(X_test.shape)\n",
    "print(y_test.shape)"
   ]
  },
  {
   "cell_type": "code",
   "execution_count": 20,
   "metadata": {},
   "outputs": [
    {
     "data": {
      "text/plain": [
       "LogisticRegression()"
      ]
     },
     "execution_count": 20,
     "metadata": {},
     "output_type": "execute_result"
    }
   ],
   "source": [
    "\n",
    "#Training\n",
    "model = LogisticRegression()\n",
    "#model = neighbors.KNeighborsClassifier(metric = 'euclidean',  n_neighbors=5)\n",
    "#model = DecisionTreeClassifier(criterion = 'gini', max_features = 15, max_depth = 10)\n",
    "\n",
    "#model = SVC()\n",
    "\n",
    "\n",
    "model.fit(X_train,y_train)"
   ]
  },
  {
   "cell_type": "code",
   "execution_count": 21,
   "metadata": {},
   "outputs": [
    {
     "data": {
      "text/plain": [
       "array(['B', 'B', 'B', 'M', 'M', 'B', 'M', 'B', 'B', 'M', 'M', 'M', 'M',\n",
       "       'M', 'M', 'B', 'M', 'B', 'B', 'B', 'M', 'B', 'M', 'M', 'M', 'M',\n",
       "       'B', 'M', 'B', 'B', 'B', 'B', 'B', 'B', 'M', 'B', 'M', 'B', 'B',\n",
       "       'B', 'B', 'B', 'B', 'M', 'M', 'B', 'B', 'B', 'B', 'M', 'M', 'B',\n",
       "       'B', 'B', 'B', 'M', 'B', 'B', 'M', 'M', 'M', 'B', 'B', 'B', 'M',\n",
       "       'M', 'M', 'B', 'M', 'B', 'M', 'B', 'B', 'B', 'B', 'M', 'B', 'B',\n",
       "       'M', 'B', 'B', 'B', 'B', 'B', 'M', 'M', 'B', 'B', 'M', 'M', 'B',\n",
       "       'B', 'M', 'B', 'B', 'B', 'B', 'B', 'B', 'B', 'B', 'M', 'B', 'M',\n",
       "       'B', 'B', 'B', 'B', 'B', 'B', 'B', 'B', 'B', 'M'], dtype=object)"
      ]
     },
     "execution_count": 21,
     "metadata": {},
     "output_type": "execute_result"
    }
   ],
   "source": [
    "#Testing\n",
    "predicted = model.predict(X_test)\n",
    "predicted"
   ]
  },
  {
   "cell_type": "code",
   "execution_count": 30,
   "metadata": {},
   "outputs": [
    {
     "data": {
      "text/html": [
       "<div>\n",
       "<style scoped>\n",
       "    .dataframe tbody tr th:only-of-type {\n",
       "        vertical-align: middle;\n",
       "    }\n",
       "\n",
       "    .dataframe tbody tr th {\n",
       "        vertical-align: top;\n",
       "    }\n",
       "\n",
       "    .dataframe thead th {\n",
       "        text-align: right;\n",
       "    }\n",
       "</style>\n",
       "<table border=\"1\" class=\"dataframe\">\n",
       "  <thead>\n",
       "    <tr style=\"text-align: right;\">\n",
       "      <th></th>\n",
       "      <th>diagnosis</th>\n",
       "    </tr>\n",
       "  </thead>\n",
       "  <tbody>\n",
       "    <tr>\n",
       "      <th>204</th>\n",
       "      <td>B</td>\n",
       "    </tr>\n",
       "    <tr>\n",
       "      <th>70</th>\n",
       "      <td>M</td>\n",
       "    </tr>\n",
       "    <tr>\n",
       "      <th>131</th>\n",
       "      <td>B</td>\n",
       "    </tr>\n",
       "    <tr>\n",
       "      <th>431</th>\n",
       "      <td>M</td>\n",
       "    </tr>\n",
       "    <tr>\n",
       "      <th>540</th>\n",
       "      <td>M</td>\n",
       "    </tr>\n",
       "    <tr>\n",
       "      <th>...</th>\n",
       "      <td>...</td>\n",
       "    </tr>\n",
       "    <tr>\n",
       "      <th>486</th>\n",
       "      <td>B</td>\n",
       "    </tr>\n",
       "    <tr>\n",
       "      <th>75</th>\n",
       "      <td>B</td>\n",
       "    </tr>\n",
       "    <tr>\n",
       "      <th>249</th>\n",
       "      <td>B</td>\n",
       "    </tr>\n",
       "    <tr>\n",
       "      <th>238</th>\n",
       "      <td>B</td>\n",
       "    </tr>\n",
       "    <tr>\n",
       "      <th>265</th>\n",
       "      <td>M</td>\n",
       "    </tr>\n",
       "  </tbody>\n",
       "</table>\n",
       "<p>114 rows × 1 columns</p>\n",
       "</div>"
      ],
      "text/plain": [
       "    diagnosis\n",
       "204         B\n",
       "70          M\n",
       "131         B\n",
       "431         M\n",
       "540         M\n",
       "..        ...\n",
       "486         B\n",
       "75          B\n",
       "249         B\n",
       "238         B\n",
       "265         M\n",
       "\n",
       "[114 rows x 1 columns]"
      ]
     },
     "execution_count": 30,
     "metadata": {},
     "output_type": "execute_result"
    }
   ],
   "source": [
    "y_test"
   ]
  },
  {
   "cell_type": "code",
   "execution_count": 34,
   "metadata": {},
   "outputs": [
    {
     "data": {
      "text/plain": [
       "B    74\n",
       "M    40\n",
       "dtype: int64"
      ]
     },
     "execution_count": 34,
     "metadata": {},
     "output_type": "execute_result"
    }
   ],
   "source": [
    "pd.value_counts(y_test.values.flatten())"
   ]
  },
  {
   "cell_type": "code",
   "execution_count": 35,
   "metadata": {},
   "outputs": [
    {
     "data": {
      "text/plain": [
       "B    73\n",
       "M    41\n",
       "dtype: int64"
      ]
     },
     "execution_count": 35,
     "metadata": {},
     "output_type": "execute_result"
    }
   ],
   "source": [
    "pd.Series(predicted).value_counts()"
   ]
  },
  {
   "cell_type": "code",
   "execution_count": 37,
   "metadata": {},
   "outputs": [
    {
     "name": "stdout",
     "output_type": "stream",
     "text": [
      "[[72  2]\n",
      " [ 1 39]]\n"
     ]
    }
   ],
   "source": [
    "#Evaluation\n",
    "#Confusion Matrix\n",
    "print(metrics.confusion_matrix(y_test, predicted))\n",
    "table = metrics.confusion_matrix(y_test, predicted)\n"
   ]
  },
  {
   "cell_type": "code",
   "execution_count": 38,
   "metadata": {},
   "outputs": [
    {
     "data": {
      "text/plain": [
       "0.9736842105263158"
      ]
     },
     "execution_count": 38,
     "metadata": {},
     "output_type": "execute_result"
    }
   ],
   "source": [
    "#Accuracy Score\n",
    "from sklearn.metrics import accuracy_score\n",
    "\n",
    "accuracy_score(y_test,predicted)"
   ]
  },
  {
   "cell_type": "code",
   "execution_count": 39,
   "metadata": {},
   "outputs": [
    {
     "name": "stdout",
     "output_type": "stream",
     "text": [
      "              precision    recall  f1-score   support\n",
      "\n",
      "           B       0.99      0.97      0.98        74\n",
      "           M       0.95      0.97      0.96        40\n",
      "\n",
      "    accuracy                           0.97       114\n",
      "   macro avg       0.97      0.97      0.97       114\n",
      "weighted avg       0.97      0.97      0.97       114\n",
      "\n"
     ]
    }
   ],
   "source": [
    "#Classification Report\n",
    "print(metrics.classification_report(y_test, predicted))"
   ]
  },
  {
   "cell_type": "code",
   "execution_count": 47,
   "metadata": {
    "scrolled": false
   },
   "outputs": [
    {
     "name": "stdout",
     "output_type": "stream",
     "text": [
      "Accuracy Mean: 0.9458498023715414 \n",
      "Accuracy Variance: 0.04971445907835614\n"
     ]
    }
   ],
   "source": [
    "from sklearn.model_selection import cross_val_score \n",
    "accuracies = cross_val_score(estimator = model, X = X,\\\n",
    "     y = y, cv = 25,scoring='f1_macro')\n",
    "print(\"Accuracy Mean: {} \\nAccuracy Variance: {}\".format(accuracies.mean(),accuracies.std()))\n"
   ]
  },
  {
   "cell_type": "code",
   "execution_count": null,
   "metadata": {},
   "outputs": [],
   "source": []
  }
 ],
 "metadata": {
  "kernelspec": {
   "display_name": "Python 3 (ipykernel)",
   "language": "python",
   "name": "python3"
  },
  "language_info": {
   "codemirror_mode": {
    "name": "ipython",
    "version": 3
   },
   "file_extension": ".py",
   "mimetype": "text/x-python",
   "name": "python",
   "nbconvert_exporter": "python",
   "pygments_lexer": "ipython3",
   "version": "3.9.13"
  }
 },
 "nbformat": 4,
 "nbformat_minor": 2
}
